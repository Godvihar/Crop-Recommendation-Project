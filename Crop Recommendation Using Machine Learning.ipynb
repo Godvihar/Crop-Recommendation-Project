import pandas as pd
import numpy as np

# Load dataset
crop = pd.read_csv("Crop_recommendation.csv")

# Display first few rows
print(crop.head())

# Check dataset dimensions
print("Dataset shape:", crop.shape)

# Get dataset information
print(crop.info())

# Check for missing values
print("Missing values per column:")
print(crop.isnull().sum())

# Check for duplicate rows
print("Number of duplicate rows:", crop.duplicated().sum())

# Display dataset statistics
print(crop.describe())

# Check correlation between features
print(crop.corr())

# Visualize correlation using heatmap
import seaborn as sns
import matplotlib.pyplot as plt
sns.heatmap(crop.corr(), annot=True, cbar=True)
plt.show()

# Check label distribution
print(crop['label'].value_counts())

# Count unique crop labels
print("Number of unique crops:", crop['label'].unique().size)

# Distribution plots for nutrient values
sns.distplot(crop['P'])
plt.show()

sns.distplot(crop['N'])
plt.show()

# Encode crop labels into numerical values
crop_dict = {
    'rice': 1, 'maize': 2, 'jute': 3, 'cotton': 4, 'coconut': 5,
    'papaya': 6, 'orange': 7, 'apple': 8, 'muskmelon': 9, 'watermelon': 10,
    'grapes': 11, 'mango': 12, 'banana': 13, 'pomegranate': 14, 'lentil': 15,
    'blackgram': 16, 'mungbean': 17, 'mothbeans': 18, 'pigeonpeas': 19,
    'kidneybeans': 20, 'chickpea': 21, 'coffee': 22
}

crop['label'] = crop['label'].map(crop_dict)

# Splitting data into features and labels
X = crop.drop('label', axis=1)
y = crop['label']

# Display first few rows of features and labels
print(X.head())
print(y.head())

# Splitting dataset into training and testing sets
from sklearn.model_selection import train_test_split
X_train, X_test, y_train, y_test = train_test_split(X, y, test_size=0.2, random_state=42)
print("Training data shape:", X_train.shape)

# Feature Scaling (Min-Max Scaling)
from sklearn.preprocessing import MinMaxScaler
mx = MinMaxScaler()
X_train = mx.fit_transform(X_train)
X_test = mx.transform(X_test)

# Standardization (StandardScaler)
from sklearn.preprocessing import StandardScaler
sc = StandardScaler()
sc.fit(X_train)
X_train = sc.transform(X_train)
X_test = sc.transform(X_test)

# Importing classification models
from sklearn.linear_model import LogisticRegression
from sklearn.naive_bayes import GaussianNB
from sklearn.svm import SVC
from sklearn.neighbors import KNeighborsClassifier
from sklearn.tree import DecisionTreeClassifier, ExtraTreeClassifier
from sklearn.ensemble import RandomForestClassifier, BaggingClassifier, GradientBoostingClassifier, AdaBoostClassifier
from sklearn.metrics import accuracy_score

# Define models
models = {
    'LogisticRegression': LogisticRegression(),
    'GaussianNB': GaussianNB(),
    'SVC': SVC(),
    'KNeighborsClassifier': KNeighborsClassifier(),
    'DecisionTreeClassifier': DecisionTreeClassifier(),
    'ExtraTreeClassifier': ExtraTreeClassifier(),
    'RandomForestClassifier': RandomForestClassifier(),
    'BaggingClassifier': BaggingClassifier(),
    'GradientBoostingClassifier': GradientBoostingClassifier(),
    'AdaBoostClassifier': AdaBoostClassifier()
}

# Train and evaluate each model
for name, model in models.items():
    model.fit(X_train, y_train)
    y_pred = model.predict(X_test)
    score = accuracy_score(y_test, y_pred)
    print(f"{name} model accuracy: {score}")

# Train the best model (Random Forest)
randclf = RandomForestClassifier()
randclf.fit(X_train, y_train)
y_pred = randclf.predict(X_test)
print("Random Forest Accuracy:", accuracy_score(y_test, y_pred))

# Crop recommendation function
def recommendation(N, P, K, temperature, humidity, ph, rainfall):
    features = np.array([[N, P, K, temperature, humidity, ph, rainfall]])
    mx_features = mx.transform(features)
    sc_mx_features = sc.transform(mx_features)
    prediction = randclf.predict(sc_mx_features).reshape(1, -1)
    return prediction[0]

# Example prediction
N = 90
P = 42
K = 43
temperature = 20.88
humidity = 82.00
ph = 6.50
rainfall = 202.93
predict = recommendation(N, P, K, temperature, humidity, ph, rainfall)
print("Predicted crop label:", predict)

# Save the trained model and scalers
import pickle
pickle.dump(randclf, open('model.pkl', 'wb'))
pickle.dump(mx, open('minmaxscaler.pkl', 'wb'))
pickle.dump(sc, open('standscaler.pkl', 'wb'))
